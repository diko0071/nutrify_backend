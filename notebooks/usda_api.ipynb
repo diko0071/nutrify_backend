{
 "cells": [
  {
   "cell_type": "code",
   "execution_count": 4,
   "metadata": {},
   "outputs": [],
   "source": [
    "import requests\n",
    "import os\n",
    "import httpx\n",
    "\n",
    "usda_api_key = os.environ['USDA_API_KEY']"
   ]
  },
  {
   "cell_type": "code",
   "execution_count": 33,
   "metadata": {},
   "outputs": [],
   "source": [
    "ingredient = 'Lemon Juice'\n",
    "\n",
    "request_url = f'https://api.nal.usda.gov/fdc/v1/foods/search?query={ingredient}&pageSize=5&dataType=Foundation&api_key={usda_api_key}'\n",
    "response = httpx.get(request_url)\n",
    "data = response.json()"
   ]
  },
  {
   "cell_type": "code",
   "execution_count": 34,
   "metadata": {},
   "outputs": [
    {
     "data": {
      "text/plain": [
       "[{'description': 'Grapefruit juice, white, canned or bottled, unsweetened',\n",
       "  'energy_nutrients': [{'nutrientName': 'Protein',\n",
       "    'unitName': 'G',\n",
       "    'value': 0.55},\n",
       "   {'nutrientName': 'Total lipid (fat)', 'unitName': 'G', 'value': 0.7},\n",
       "   {'nutrientName': 'Carbohydrate, by difference',\n",
       "    'unitName': 'G',\n",
       "    'value': 7.59}]},\n",
       " {'description': 'Cranberry juice, not fortified, from concentrate, shelf stable',\n",
       "  'energy_nutrients': [{'nutrientName': 'Total lipid (fat)',\n",
       "    'unitName': 'G',\n",
       "    'value': 0.338},\n",
       "   {'nutrientName': 'Protein', 'unitName': 'G', 'value': 0.0},\n",
       "   {'nutrientName': 'Carbohydrate, by difference',\n",
       "    'unitName': 'G',\n",
       "    'value': 7.26},\n",
       "   {'nutrientName': 'Energy (Atwater General Factors)',\n",
       "    'unitName': 'KCAL',\n",
       "    'value': 32.1},\n",
       "   {'nutrientName': 'Energy (Atwater Specific Factors)',\n",
       "    'unitName': 'KCAL',\n",
       "    'value': 31.3}]},\n",
       " {'description': 'Grapefruit juice, red, not fortified, not from concentrate, refrigerated',\n",
       "  'energy_nutrients': [{'nutrientName': 'Total lipid (fat)',\n",
       "    'unitName': 'G',\n",
       "    'value': 0.267},\n",
       "   {'nutrientName': 'Protein', 'unitName': 'G', 'value': 0.57},\n",
       "   {'nutrientName': 'Carbohydrate, by difference',\n",
       "    'unitName': 'G',\n",
       "    'value': 9.1},\n",
       "   {'nutrientName': 'Energy (Atwater General Factors)',\n",
       "    'unitName': 'KCAL',\n",
       "    'value': 41.1},\n",
       "   {'nutrientName': 'Energy (Atwater Specific Factors)',\n",
       "    'unitName': 'KCAL',\n",
       "    'value': 39.8}]},\n",
       " {'description': 'Orange juice, no pulp, not fortified, from concentrate, refrigerated',\n",
       "  'energy_nutrients': [{'nutrientName': 'Total lipid (fat)',\n",
       "    'unitName': 'G',\n",
       "    'value': 0.325},\n",
       "   {'nutrientName': 'Protein', 'unitName': 'G', 'value': 0.734},\n",
       "   {'nutrientName': 'Carbohydrate, by difference',\n",
       "    'unitName': 'G',\n",
       "    'value': 10.3},\n",
       "   {'nutrientName': 'Energy (Atwater General Factors)',\n",
       "    'unitName': 'KCAL',\n",
       "    'value': 47.2},\n",
       "   {'nutrientName': 'Energy (Atwater Specific Factors)',\n",
       "    'unitName': 'KCAL',\n",
       "    'value': 45.7}]},\n",
       " {'description': 'Orange juice, no pulp, not fortified, not from concentrate, refrigerated',\n",
       "  'energy_nutrients': [{'nutrientName': 'Total lipid (fat)',\n",
       "    'unitName': 'G',\n",
       "    'value': 0.356},\n",
       "   {'nutrientName': 'Protein', 'unitName': 'G', 'value': 0.812},\n",
       "   {'nutrientName': 'Carbohydrate, by difference',\n",
       "    'unitName': 'G',\n",
       "    'value': 10.0},\n",
       "   {'nutrientName': 'Energy (Atwater General Factors)',\n",
       "    'unitName': 'KCAL',\n",
       "    'value': 46.5},\n",
       "   {'nutrientName': 'Energy (Atwater Specific Factors)',\n",
       "    'unitName': 'KCAL',\n",
       "    'value': 45.0}]}]"
      ]
     },
     "execution_count": 34,
     "metadata": {},
     "output_type": "execute_result"
    }
   ],
   "source": [
    "results = []\n",
    "for food in data['foods']:\n",
    "    food_info = {\n",
    "        'description': food['description'],\n",
    "        'energy_nutrients': []\n",
    "    }\n",
    "    for nutrient in food['foodNutrients']:\n",
    "        if nutrient['nutrientName'] == 'Energy (Atwater General Factors)' or nutrient['nutrientName'] == 'Energy (Atwater Specific Factors)' or nutrient['nutrientName'] == 'Protein' or nutrient['nutrientName'] == 'Carbohydrate, by difference' or nutrient['nutrientName'] == 'Total lipid (fat)':\n",
    "            filtered_nutrient = {\n",
    "                'nutrientName': nutrient['nutrientName'],\n",
    "                'unitName': nutrient['unitName'],\n",
    "                'value': nutrient['value']\n",
    "            }\n",
    "            food_info['energy_nutrients'].append(filtered_nutrient)\n",
    "    if food_info['energy_nutrients']: \n",
    "        results.append(food_info)\n",
    "\n",
    "results"
   ]
  }
 ],
 "metadata": {
  "kernelspec": {
   "display_name": "Python 3",
   "language": "python",
   "name": "python3"
  },
  "language_info": {
   "codemirror_mode": {
    "name": "ipython",
    "version": 3
   },
   "file_extension": ".py",
   "mimetype": "text/x-python",
   "name": "python",
   "nbconvert_exporter": "python",
   "pygments_lexer": "ipython3",
   "version": "3.10.11"
  }
 },
 "nbformat": 4,
 "nbformat_minor": 2
}
