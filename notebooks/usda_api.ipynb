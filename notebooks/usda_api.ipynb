{
 "cells": [
  {
   "cell_type": "code",
   "execution_count": 1,
   "metadata": {},
   "outputs": [],
   "source": [
    "import requests\n",
    "import os\n",
    "import httpx\n",
    "\n",
    "usda_api_key = os.environ['USDA_API_KEY']"
   ]
  },
  {
   "cell_type": "code",
   "execution_count": 13,
   "metadata": {},
   "outputs": [],
   "source": [
    "ingredient = 'Bacon'\n",
    "\n",
    "request_url = f'https://api.nal.usda.gov/fdc/v1/foods/search?query={ingredient}&pageSize=5&dataType=SR%20Legacy&api_key={usda_api_key}'\n",
    "response = httpx.get(request_url)\n",
    "data = response.json()"
   ]
  },
  {
   "cell_type": "code",
   "execution_count": 14,
   "metadata": {},
   "outputs": [
    {
     "data": {
      "text/plain": [
       "[{'description': 'Bacon, meatless',\n",
       "  'energy_nutrients': [{'nutrientName': 'Protein',\n",
       "    'unitName': 'G',\n",
       "    'value': 11.7},\n",
       "   {'nutrientName': 'Carbohydrate, by difference',\n",
       "    'unitName': 'G',\n",
       "    'value': 5.31},\n",
       "   {'nutrientName': 'Total lipid (fat)', 'unitName': 'G', 'value': 29.5}]},\n",
       " {'description': 'Bacon and beef sticks',\n",
       "  'energy_nutrients': [{'nutrientName': 'Protein',\n",
       "    'unitName': 'G',\n",
       "    'value': 29.1},\n",
       "   {'nutrientName': 'Total lipid (fat)', 'unitName': 'G', 'value': 44.2},\n",
       "   {'nutrientName': 'Carbohydrate, by difference',\n",
       "    'unitName': 'G',\n",
       "    'value': 0.8}]},\n",
       " {'description': 'Bacon bits, meatless',\n",
       "  'energy_nutrients': [{'nutrientName': 'Protein',\n",
       "    'unitName': 'G',\n",
       "    'value': 32.0},\n",
       "   {'nutrientName': 'Total lipid (fat)', 'unitName': 'G', 'value': 25.9},\n",
       "   {'nutrientName': 'Carbohydrate, by difference',\n",
       "    'unitName': 'G',\n",
       "    'value': 28.6}]},\n",
       " {'description': 'Bacon, turkey, microwaved',\n",
       "  'energy_nutrients': [{'nutrientName': 'Total lipid (fat)',\n",
       "    'unitName': 'G',\n",
       "    'value': 25.9},\n",
       "   {'nutrientName': 'Carbohydrate, by difference',\n",
       "    'unitName': 'G',\n",
       "    'value': 4.24},\n",
       "   {'nutrientName': 'Protein', 'unitName': 'G', 'value': 29.5}]},\n",
       " {'description': 'Bacon, turkey, unprepared',\n",
       "  'energy_nutrients': [{'nutrientName': 'Protein',\n",
       "    'unitName': 'G',\n",
       "    'value': 15.9},\n",
       "   {'nutrientName': 'Total lipid (fat)', 'unitName': 'G', 'value': 16.9},\n",
       "   {'nutrientName': 'Carbohydrate, by difference',\n",
       "    'unitName': 'G',\n",
       "    'value': 1.89}]}]"
      ]
     },
     "execution_count": 14,
     "metadata": {},
     "output_type": "execute_result"
    }
   ],
   "source": [
    "results = []\n",
    "for food in data['foods']:\n",
    "    food_info = {\n",
    "        'description': food['description'],\n",
    "        'energy_nutrients': []\n",
    "    }\n",
    "    for nutrient in food['foodNutrients']:\n",
    "        if nutrient['nutrientName'] == 'Energy (Atwater General Factors)' or nutrient['nutrientName'] == 'Energy (Atwater Specific Factors)' or nutrient['nutrientName'] == 'Protein' or nutrient['nutrientName'] == 'Carbohydrate, by difference' or nutrient['nutrientName'] == 'Total lipid (fat)':\n",
    "            filtered_nutrient = {\n",
    "                'nutrientName': nutrient['nutrientName'],\n",
    "                'unitName': nutrient['unitName'],\n",
    "                'value': nutrient['value']\n",
    "            }\n",
    "            food_info['energy_nutrients'].append(filtered_nutrient)\n",
    "    if food_info['energy_nutrients']: \n",
    "        results.append(food_info)\n",
    "\n",
    "results"
   ]
  }
 ],
 "metadata": {
  "kernelspec": {
   "display_name": "Python 3",
   "language": "python",
   "name": "python3"
  },
  "language_info": {
   "codemirror_mode": {
    "name": "ipython",
    "version": 3
   },
   "file_extension": ".py",
   "mimetype": "text/x-python",
   "name": "python",
   "nbconvert_exporter": "python",
   "pygments_lexer": "ipython3",
   "version": "3.10.11"
  }
 },
 "nbformat": 4,
 "nbformat_minor": 2
}
