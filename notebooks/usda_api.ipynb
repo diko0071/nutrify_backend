{
 "cells": [
  {
   "cell_type": "code",
   "execution_count": 4,
   "metadata": {},
   "outputs": [],
   "source": [
    "import requests\n",
    "import os\n",
    "import httpx\n",
    "\n",
    "usda_api_key = os.environ['USDA_API_KEY']"
   ]
  },
  {
   "cell_type": "code",
   "execution_count": 24,
   "metadata": {},
   "outputs": [],
   "source": [
    "ingredient = 'Ginger'\n",
    "\n",
    "request_url = f'https://api.nal.usda.gov/fdc/v1/foods/search?query={ingredient}&pageSize=5&dataType=Foundation&api_key={usda_api_key}'\n",
    "response = httpx.get(request_url)\n",
    "data = response.json()"
   ]
  },
  {
   "cell_type": "code",
   "execution_count": 25,
   "metadata": {},
   "outputs": [
    {
     "data": {
      "text/plain": [
       "[]"
      ]
     },
     "execution_count": 25,
     "metadata": {},
     "output_type": "execute_result"
    }
   ],
   "source": [
    "results = []\n",
    "for food in data['foods']:\n",
    "    food_info = {\n",
    "        'description': food['description'],\n",
    "        'energy_nutrients': []\n",
    "    }\n",
    "    for nutrient in food['foodNutrients']:\n",
    "        if nutrient['nutrientName'] == 'Energy (Atwater General Factors)' or nutrient['nutrientName'] == 'Energy (Atwater Specific Factors)' or nutrient['nutrientName'] == 'Protein' or nutrient['nutrientName'] == 'Carbohydrate, by difference' or nutrient['nutrientName'] == 'Total lipid (fat)':\n",
    "            filtered_nutrient = {\n",
    "                'nutrientName': nutrient['nutrientName'],\n",
    "                'unitName': nutrient['unitName'],\n",
    "                'value': nutrient['value']\n",
    "            }\n",
    "            food_info['energy_nutrients'].append(filtered_nutrient)\n",
    "    if food_info['energy_nutrients']: \n",
    "        results.append(food_info)\n",
    "\n",
    "results"
   ]
  }
 ],
 "metadata": {
  "kernelspec": {
   "display_name": "Python 3",
   "language": "python",
   "name": "python3"
  },
  "language_info": {
   "codemirror_mode": {
    "name": "ipython",
    "version": 3
   },
   "file_extension": ".py",
   "mimetype": "text/x-python",
   "name": "python",
   "nbconvert_exporter": "python",
   "pygments_lexer": "ipython3",
   "version": "3.10.11"
  }
 },
 "nbformat": 4,
 "nbformat_minor": 2
}
